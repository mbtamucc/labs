{
 "cells": [
  {
   "cell_type": "code",
   "execution_count": null,
   "metadata": {
    "tags": [
     "#Part1"
    ]
   },
   "outputs": [],
   "source": [
    "#Part1 Create a list of hypothetical file names using a for loop:\n",
    "#a) Create a list with the following strings as elements: 'roads', 'cities', 'counties', 'states'\n",
    "#b) Create an empty list and then populate it by concatenating each of the strings above with\n",
    "#‘.txt’. This should result in a list of strings ending in .txt (e.g. ‘roads.txt’, ‘cities.txt’, etc.)."
   ]
  },
  {
   "cell_type": "code",
   "execution_count": 1,
   "metadata": {},
   "outputs": [
    {
     "name": "stdout",
     "output_type": "stream",
     "text": [
      "cities\n",
      "counties\n",
      "roads\n",
      "states\n"
     ]
    }
   ],
   "source": [
    "#created an empty list using for loop\n",
    "places = ['roads', 'cities', 'counties', 'states']\n",
    "#sorts the list alpahebetically\n",
    "places.sort()\n",
    "for items in places:\n",
    "    print(items)"
   ]
  },
  {
   "cell_type": "code",
   "execution_count": 2,
   "metadata": {},
   "outputs": [
    {
     "name": "stdout",
     "output_type": "stream",
     "text": [
      "[WinError 183] Cannot create a file when that file already exists: 'C:/Users/mmbur/OneDrive/Documents/GEOG5092 - Automation and Programming/Lab0'\n"
     ]
    }
   ],
   "source": [
    "##NOT FOR LAB\n",
    "#create directory to GEOG5092 Lab1 \n",
    "import os\n",
    "path = \"C:/Users/mmbur/OneDrive/Documents/GEOG5092 - Automation and Programming/Lab0\"\n",
    "try:\n",
    "    os.mkdir(path)\n",
    "except OSError as error:\n",
    "    print(error)"
   ]
  },
  {
   "cell_type": "code",
   "execution_count": 3,
   "metadata": {},
   "outputs": [
    {
     "name": "stdout",
     "output_type": "stream",
     "text": [
      "C:\\Users\\mmbur\\OneDrive\\Documents\\GEOG5092 - Automation and Programming\\Lab0\n",
      ".ipynb_checkpoints\n",
      "lab0.txt\n",
      "lab0_f20.pdf\n",
      "lab0_solution.ipynb\n",
      "ovenden_lab0.ipynb\n",
      "RaisePitoPowers.PNG\n"
     ]
    }
   ],
   "source": [
    "##NOT FOR LAB\n",
    "#change to directory created in prevoius code and list everything contained in the folder\n",
    "os.chdir('C:/Users/mmbur/OneDrive/Documents/GEOG5092 - Automation and Programming/Lab0')\n",
    "print(os.getcwd())\n",
    "for i in os.listdir():\n",
    "        print(i)"
   ]
  },
  {
   "cell_type": "code",
   "execution_count": 8,
   "metadata": {},
   "outputs": [],
   "source": [
    "for places in [ \"roads\", \"cities\", \"counties\", \"states\"]:\n",
    "    f = open(places + \".txt\", \"w+\")\n",
    "    f.write(\"this is my first line of code\")\n",
    "    f.close()"
   ]
  },
  {
   "cell_type": "code",
   "execution_count": 9,
   "metadata": {
    "scrolled": true
   },
   "outputs": [
    {
     "name": "stdout",
     "output_type": "stream",
     "text": [
      "cities.txt\n",
      "counties.txt\n",
      "lab0.txt\n",
      "roads.txt\n",
      "states.txt\n"
     ]
    }
   ],
   "source": [
    "#verify list was created in this directory\n",
    "list_of_files = os.listdir()\n",
    "for i in list_of_files:\n",
    "        if '.txt' in i:\n",
    "                print(i)"
   ]
  },
  {
   "cell_type": "code",
   "execution_count": 6,
   "metadata": {},
   "outputs": [
    {
     "name": "stdout",
     "output_type": "stream",
     "text": [
      "9.869604401089358\n",
      "31.006276680299816\n",
      "97.40909103400242\n",
      "306.01968478528136\n",
      "961.3891935753041\n",
      "3020.293227776791\n",
      "9488.53101607057\n",
      "29809.0993334462\n"
     ]
    }
   ],
   "source": [
    "import math\n",
    "#assign pi to a variable\n",
    "pwr = 0\n",
    "p = math.pi\n",
    "#while p is less than 10000 multiple p\n",
    "while  <10000:\n",
    "#*= is an compound assignment operator. \n",
    "   p *= math.pi\n",
    "   print(p)\n",
    "    "
   ]
  },
  {
   "cell_type": "code",
   "execution_count": 36,
   "metadata": {},
   "outputs": [
    {
     "name": "stdout",
     "output_type": "stream",
     "text": [
      "C:\\Users\\mmbur\\OneDrive\\Documents\\GEOG5092 - Automation and Programming\\Lab0\n",
      "C:\\Users\\mmbur\\OneDrive\\Documents\\GEOG5092 - Automation and Programming\\Lab0\n",
      "['1.474', '2.863', '2.959', '3.758', '4.490', '4.963', '5.128', '5.265', '5.822', '6.201', '7.033', '7.830']\n"
     ]
    }
   ],
   "source": [
    "import os\n",
    "print(os.getcwd())\n",
    "os.chdir('C:/Users/mmbur/OneDrive/Documents/GEOG5092 - Automation and Programming/Lab0')\n",
    "print(os.getcwd())\n",
    "\n",
    "with open('lab0.txt','r') as file:\n",
    "    contents = file.readlines()\n",
    "    \n",
    "for i in range (len(contents)):\n",
    "    contents[i] = contents[i].strip()\n",
    "\n",
    "print(contents)"
   ]
  },
  {
   "cell_type": "code",
   "execution_count": 7,
   "metadata": {},
   "outputs": [
    {
     "name": "stdout",
     "output_type": "stream",
     "text": [
      "C:\\Users\\mmbur\\OneDrive\\Documents\\GEOG5092 - Automation and Programming\\Lab0\n"
     ]
    }
   ],
   "source": []
  }
 ],
 "metadata": {
  "kernelspec": {
   "display_name": "Python 3",
   "language": "python",
   "name": "python3"
  },
  "language_info": {
   "codemirror_mode": {
    "name": "ipython",
    "version": 3
   },
   "file_extension": ".py",
   "mimetype": "text/x-python",
   "name": "python",
   "nbconvert_exporter": "python",
   "pygments_lexer": "ipython3",
   "version": "3.7.8"
  }
 },
 "nbformat": 4,
 "nbformat_minor": 2
}
